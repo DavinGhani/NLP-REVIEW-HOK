{
  "nbformat": 4,
  "nbformat_minor": 0,
  "metadata": {
    "colab": {
      "provenance": []
    },
    "kernelspec": {
      "name": "python3",
      "display_name": "Python 3"
    },
    "language_info": {
      "name": "python"
    }
  },
  "cells": [
    {
      "cell_type": "markdown",
      "source": [
        "# Scrapping Dataset"
      ],
      "metadata": {
        "id": "bKwf2VNufcUI"
      }
    },
    {
      "cell_type": "code",
      "execution_count": 3,
      "metadata": {
        "id": "RvQqKs_le5Ra"
      },
      "outputs": [],
      "source": [
        "import pandas as pd\n",
        "# Untuk scraping data dari Google Play Store\n",
        "!pip install google-play-scraper --quiet\n",
        "from google_play_scraper import app, reviews_all, Sort"
      ]
    },
    {
      "cell_type": "code",
      "source": [
        "from google_play_scraper import reviews_all, Sort\n",
        "\n",
        "# Scraping seluruh ulasan\n",
        "honor_reviews = reviews_all(\n",
        "    'com.levelinfinite.sgameGlobal',\n",
        "    lang='id',\n",
        "    country='id',\n",
        "    sort=Sort.MOST_RELEVANT,\n",
        "    count=10000\n",
        ")\n",
        "\n",
        "# Konversi ke DataFrame\n",
        "df_reviews = pd.DataFrame(honor_reviews)\n",
        "df_reviews.shape"
      ],
      "metadata": {
        "colab": {
          "base_uri": "https://localhost:8080/"
        },
        "id": "t2jXKqgxfRE2",
        "outputId": "0a773a17-862d-46fd-db82-1e965961d899"
      },
      "execution_count": 4,
      "outputs": [
        {
          "output_type": "execute_result",
          "data": {
            "text/plain": [
              "(149098, 11)"
            ]
          },
          "metadata": {},
          "execution_count": 4
        }
      ]
    },
    {
      "cell_type": "markdown",
      "source": [
        "# Eksport Data"
      ],
      "metadata": {
        "id": "E5J7ksO1fXpb"
      }
    },
    {
      "cell_type": "code",
      "source": [
        "# Simpan ulasan ke file CSV\n",
        "df_reviews.to_csv('ulasan_honor_of_kings.csv', index=False)"
      ],
      "metadata": {
        "id": "TlGcq55SfUzX"
      },
      "execution_count": 5,
      "outputs": []
    }
  ]
}